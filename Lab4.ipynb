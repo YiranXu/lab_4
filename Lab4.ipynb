{
 "cells": [
  {
   "cell_type": "code",
   "execution_count": 1,
   "metadata": {
    "collapsed": true
   },
   "outputs": [],
   "source": [
    "\n",
    "\n",
    "\n",
    "def Day_Of_Year(Month, Day_Of_Month, Year):  ####Lab4: much of replication!\n",
    "    if (Month == 2):\n",
    "        Day_Of_Month += 31\n",
    "    elif (Month == 3):\n",
    "        Day_Of_Month += 59\n",
    "    elif (Month == 4):\n",
    "        Day_Of_Month += 90\n",
    "    elif (Month == 5):\n",
    "        Day_Of_Month += 31 + 28 + 31 + 30\n",
    "    elif (Month == 6):\n",
    "        Day_Of_Month += 31 + 28 + 31 + 30 + 31\n",
    "    elif (Month == 7):\n",
    "        Day_Of_Month += 31 + 28 + 31 + 30 + 31 + 30\n",
    "    elif (Month == 8):\n",
    "        Day_Of_Month += 31 + 28 + 31 + 30 + 31 + 30 + 31\n",
    "    elif (Month == 9):\n",
    "        Day_Of_Month += 31 + 28 + 31 + 30 + 31 + 30 + 31 + 31\n",
    "    elif (Month == 10):\n",
    "        Day_Of_Month += 31 + 28 + 31 + 30 + 31 + 30 + 31 + 31 + 30\n",
    "    elif (Month == 11):\n",
    "        Day_Of_Month += 31 + 28 + 31 + 30 + 31 + 30 + 31 + 31 + 30 + 31\n",
    "    elif (Month == 12):\n",
    "        Day_Of_Month += 31 + 28 + 31 + 30 + 31 + 30 + 31 + 31 + 30 + 31 + 31\n",
    "    return Day_Of_Month"
   ]
  },
  {
   "cell_type": "code",
   "execution_count": 26,
   "metadata": {
    "collapsed": false
   },
   "outputs": [],
   "source": [
    "def day_of_year_modified(Month,Day,Year):  #can do a dictionary  #in python not capital letters\n",
    "    Days=0\n",
    "    #try:\n",
    "    if Month>=13 or Month<=0:  #if Month not in range(1,12)\n",
    "        raise ValueError(\"month should be an integer less or equal to 12 \") #raise error and stop it(you want users to know)\n",
    "    #except ValueError:   #shft+tab to show information\n",
    "        #print(\"month should be an integer less or equal to 12 \")\n",
    "    #else:\n",
    "    Month_list=[1,2,3,4,5,6,7,8,9,10,11,12] \n",
    "    Day_Of_Month=[Day,28,31,30,31,30,31,31,30,31,30,31]  #when you have two lists, you can use dictionaries!\n",
    "    count=0;\n",
    "    for m in Month_list:\n",
    "        if Month==m:\n",
    "            count=m\n",
    "            for d in range(count):\n",
    "                Days+=Day_Of_Month[d]\n",
    "    return Days"
   ]
  },
  {
   "cell_type": "code",
   "execution_count": 27,
   "metadata": {
    "collapsed": false
   },
   "outputs": [
    {
     "data": {
      "text/plain": [
       "61"
      ]
     },
     "execution_count": 27,
     "metadata": {},
     "output_type": "execute_result"
    }
   ],
   "source": [
    "Day_Of_Year(3, 2, 1992)"
   ]
  },
  {
   "cell_type": "code",
   "execution_count": 28,
   "metadata": {
    "collapsed": false
   },
   "outputs": [
    {
     "ename": "ValueError",
     "evalue": "month should be an integer less or equal to 12 ",
     "output_type": "error",
     "traceback": [
      "\u001b[0;31m---------------------------------------------------------------------------\u001b[0m",
      "\u001b[0;31mValueError\u001b[0m                                Traceback (most recent call last)",
      "\u001b[0;32m<ipython-input-28-42a492fbd41f>\u001b[0m in \u001b[0;36m<module>\u001b[0;34m()\u001b[0m\n\u001b[0;32m----> 1\u001b[0;31m \u001b[0mday_of_year_modified\u001b[0m\u001b[0;34m(\u001b[0m\u001b[0;36m0\u001b[0m\u001b[0;34m,\u001b[0m \u001b[0;36m2\u001b[0m\u001b[0;34m,\u001b[0m \u001b[0;36m1992\u001b[0m\u001b[0;34m)\u001b[0m\u001b[0;34m\u001b[0m\u001b[0m\n\u001b[0m",
      "\u001b[0;32m<ipython-input-26-a025d138ed87>\u001b[0m in \u001b[0;36mday_of_year_modified\u001b[0;34m(Month, Day, Year)\u001b[0m\n\u001b[1;32m      3\u001b[0m     \u001b[0;31m#try:\u001b[0m\u001b[0;34m\u001b[0m\u001b[0;34m\u001b[0m\u001b[0m\n\u001b[1;32m      4\u001b[0m     \u001b[0;32mif\u001b[0m \u001b[0mMonth\u001b[0m\u001b[0;34m>=\u001b[0m\u001b[0;36m13\u001b[0m \u001b[0;32mor\u001b[0m \u001b[0mMonth\u001b[0m\u001b[0;34m<=\u001b[0m\u001b[0;36m0\u001b[0m\u001b[0;34m:\u001b[0m  \u001b[0;31m#if Month not in range(1,12)\u001b[0m\u001b[0;34m\u001b[0m\u001b[0m\n\u001b[0;32m----> 5\u001b[0;31m         \u001b[0;32mraise\u001b[0m \u001b[0mValueError\u001b[0m\u001b[0;34m(\u001b[0m\u001b[0;34m\"month should be an integer less or equal to 12 \"\u001b[0m\u001b[0;34m)\u001b[0m \u001b[0;31m#raise error and stop it(you want users to know)\u001b[0m\u001b[0;34m\u001b[0m\u001b[0m\n\u001b[0m\u001b[1;32m      6\u001b[0m     \u001b[0;31m#except ValueError:   #shft+tab to show information\u001b[0m\u001b[0;34m\u001b[0m\u001b[0;34m\u001b[0m\u001b[0m\n\u001b[1;32m      7\u001b[0m         \u001b[0;31m#print(\"month should be an integer less or equal to 12 \")\u001b[0m\u001b[0;34m\u001b[0m\u001b[0;34m\u001b[0m\u001b[0m\n",
      "\u001b[0;31mValueError\u001b[0m: month should be an integer less or equal to 12 "
     ]
    }
   ],
   "source": [
    "day_of_year_modified(0, 2, 1992)"
   ]
  },
  {
   "cell_type": "code",
   "execution_count": null,
   "metadata": {
    "collapsed": true
   },
   "outputs": [],
   "source": []
  }
 ],
 "metadata": {
  "kernelspec": {
   "display_name": "Python [Root]",
   "language": "python",
   "name": "Python [Root]"
  },
  "language_info": {
   "codemirror_mode": {
    "name": "ipython",
    "version": 3
   },
   "file_extension": ".py",
   "mimetype": "text/x-python",
   "name": "python",
   "nbconvert_exporter": "python",
   "pygments_lexer": "ipython3",
   "version": "3.5.2"
  }
 },
 "nbformat": 4,
 "nbformat_minor": 0
}
